{
  "nbformat": 4,
  "nbformat_minor": 0,
  "metadata": {
    "colab": {
      "name": "UCI_heart_disease.ipynb",
      "version": "0.3.2",
      "provenance": [],
      "collapsed_sections": []
    },
    "kernelspec": {
      "name": "python3",
      "display_name": "Python 3"
    },
    "accelerator": "GPU"
  },
  "cells": [
    {
      "cell_type": "code",
      "metadata": {
        "id": "fciybCuCk5HE",
        "colab_type": "code",
        "outputId": "97fb31b2-4c98-4ef8-9d33-9a3934078f75",
        "colab": {
          "base_uri": "https://localhost:8080/",
          "height": 122
        }
      },
      "source": [
        "from google.colab import drive\n",
        "drive.mount('/content/gdrive')\n",
        "import numpy as np\n"
      ],
      "execution_count": 0,
      "outputs": [
        {
          "output_type": "stream",
          "text": [
            "Go to this URL in a browser: https://accounts.google.com/o/oauth2/auth?client_id=947318989803-6bn6qk8qdgf4n4g3pfee6491hc0brc4i.apps.googleusercontent.com&redirect_uri=urn%3Aietf%3Awg%3Aoauth%3A2.0%3Aoob&scope=email%20https%3A%2F%2Fwww.googleapis.com%2Fauth%2Fdocs.test%20https%3A%2F%2Fwww.googleapis.com%2Fauth%2Fdrive%20https%3A%2F%2Fwww.googleapis.com%2Fauth%2Fdrive.photos.readonly%20https%3A%2F%2Fwww.googleapis.com%2Fauth%2Fpeopleapi.readonly&response_type=code\n",
            "\n",
            "Enter your authorization code:\n",
            "··········\n",
            "Mounted at /content/gdrive\n"
          ],
          "name": "stdout"
        }
      ]
    },
    {
      "cell_type": "code",
      "metadata": {
        "id": "zgnd8UoNk-EP",
        "colab_type": "code",
        "cellView": "both",
        "outputId": "f02d08cc-283f-43f8-8011-4e0e7c96abb2",
        "colab": {
          "base_uri": "https://localhost:8080/",
          "height": 34
        }
      },
      "source": [
        "print (\"importing pandas\")\n",
        "import pandas as pd"
      ],
      "execution_count": 0,
      "outputs": [
        {
          "output_type": "stream",
          "text": [
            "importing pandas\n"
          ],
          "name": "stdout"
        }
      ]
    },
    {
      "cell_type": "code",
      "metadata": {
        "id": "3iwiclUGlAT8",
        "colab_type": "code",
        "outputId": "ffeb3f2c-60cc-4808-e88b-c66fe05d8d04",
        "colab": {
          "base_uri": "https://localhost:8080/",
          "height": 34
        }
      },
      "source": [
        "print (\"reading file\")\n",
        "data=pd.read_csv(r'/content/gdrive/My Drive/heart_disease/heart-disease-uci/heart.csv')"
      ],
      "execution_count": 0,
      "outputs": [
        {
          "output_type": "stream",
          "text": [
            "reading file\n"
          ],
          "name": "stdout"
        }
      ]
    },
    {
      "cell_type": "code",
      "metadata": {
        "id": "IZK_rAZDlClq",
        "colab_type": "code",
        "outputId": "96502db9-b776-4a20-d1df-8c0ab76a64ac",
        "colab": {
          "base_uri": "https://localhost:8080/",
          "height": 34
        }
      },
      "source": [
        "print (\"separating features and labels\")\n",
        "targets=list(data['target'])\n",
        "data_features=data.loc[:,'age':'thal']"
      ],
      "execution_count": 0,
      "outputs": [
        {
          "output_type": "stream",
          "text": [
            "separating features and labels\n"
          ],
          "name": "stdout"
        }
      ]
    },
    {
      "cell_type": "code",
      "metadata": {
        "id": "GxFds-CtlHs8",
        "colab_type": "code",
        "outputId": "59905c65-c271-40cb-862d-0b7804877a64",
        "colab": {
          "base_uri": "https://localhost:8080/",
          "height": 34
        }
      },
      "source": [
        "data_features=data_features.values\n",
        "print (\"data_features.shape\",data_features.shape)\n"
      ],
      "execution_count": 0,
      "outputs": [
        {
          "output_type": "stream",
          "text": [
            "data_features.shape (303, 13)\n"
          ],
          "name": "stdout"
        }
      ]
    },
    {
      "cell_type": "code",
      "metadata": {
        "id": "9rYR81v3YY6l",
        "colab_type": "code",
        "outputId": "41203f42-2f55-4b81-e62c-fa0177e286b8",
        "colab": {
          "base_uri": "https://localhost:8080/",
          "height": 51
        }
      },
      "source": [
        "print (\"Applying PCA \")\n",
        "##### PCA\n",
        "from sklearn.decomposition import PCA\n",
        "pca = PCA(n_components=9)\n",
        "principalComponents=pca.fit_transform(data_features)\n",
        "\n",
        "print (\"principalComponents.shape\", principalComponents.shape)\n"
      ],
      "execution_count": 0,
      "outputs": [
        {
          "output_type": "stream",
          "text": [
            "Applying PCA \n",
            "principalComponents.shape (303, 9)\n"
          ],
          "name": "stdout"
        }
      ]
    },
    {
      "cell_type": "code",
      "metadata": {
        "id": "QLZPBxfZmdgu",
        "colab_type": "code",
        "outputId": "a39402a8-0b2e-4a49-d91a-f71a2e5d7d11",
        "colab": {
          "base_uri": "https://localhost:8080/",
          "height": 68
        }
      },
      "source": [
        "###### RESHUFFLE RESPLIT\n",
        "print (\"splitting data into train and test \")\n",
        "from sklearn.model_selection import train_test_split\n",
        "train_data_mat, test_data_mat, train_labels, test_labels = train_test_split( principalComponents, targets, test_size=0.15, random_state=40)\n",
        "print (\"train_data_mat.shape \",train_data_mat.shape)\n",
        "print (\"test_data_mat.shape \", test_data_mat.shape)\n"
      ],
      "execution_count": 0,
      "outputs": [
        {
          "output_type": "stream",
          "text": [
            "splitting data into train and test \n",
            "train_data_mat.shape  (257, 9)\n",
            "test_data_mat.shape  (46, 9)\n"
          ],
          "name": "stdout"
        }
      ]
    },
    {
      "cell_type": "code",
      "metadata": {
        "id": "Zc1Xgvp4lQeh",
        "colab_type": "code",
        "outputId": "bb76e3e9-b68c-4f0e-b276-c7f34c3796bd",
        "colab": {
          "base_uri": "https://localhost:8080/",
          "height": 68
        }
      },
      "source": [
        "from sklearn.metrics import accuracy_score\n",
        "print (\"importing accuracy_score\")\n",
        "from time import time\n",
        "print (\"importing time\")\n",
        "from sklearn.model_selection import GridSearchCV\n",
        "print (\"importing GridSearchCV\")"
      ],
      "execution_count": 0,
      "outputs": [
        {
          "output_type": "stream",
          "text": [
            "importing accuracy_score\n",
            "importing time\n",
            "importing GridSearchCV\n"
          ],
          "name": "stdout"
        }
      ]
    },
    {
      "cell_type": "code",
      "metadata": {
        "id": "TWBmhRkNYvTk",
        "colab_type": "code",
        "outputId": "b0f0f40c-f011-4b59-d17d-f2ecebe83575",
        "colab": {
          "base_uri": "https://localhost:8080/",
          "height": 258
        }
      },
      "source": [
        "########### DT\n",
        "\n",
        "from sklearn import tree\n",
        "param_grid = {\n",
        "         'min_samples_split': [12, 10, 8, 6, 4, 2],\n",
        "          }\n",
        "t0=time()\n",
        "clf = GridSearchCV(tree.DecisionTreeClassifier(), param_grid)\n",
        "\n",
        "clf.fit(train_data_mat,train_labels)\n",
        "pred=clf.predict(test_data_mat)\n",
        "acc=accuracy_score(pred,test_labels)\n",
        "print (\"acc decision tree: \",acc)\n",
        "print (\"Computation time: \", round(time()-t0,3))\n",
        "print (\"Best estimator found by grid search:\")\n",
        "print (clf.best_estimator_)\n"
      ],
      "execution_count": 0,
      "outputs": [
        {
          "output_type": "stream",
          "text": [
            "acc decision tree:  0.8260869565217391\n",
            "Computation time:  0.035\n",
            "Best estimator found by grid search:\n",
            "DecisionTreeClassifier(class_weight=None, criterion='gini', max_depth=None,\n",
            "                       max_features=None, max_leaf_nodes=None,\n",
            "                       min_impurity_decrease=0.0, min_impurity_split=None,\n",
            "                       min_samples_leaf=1, min_samples_split=12,\n",
            "                       min_weight_fraction_leaf=0.0, presort=False,\n",
            "                       random_state=None, splitter='best')\n"
          ],
          "name": "stdout"
        },
        {
          "output_type": "stream",
          "text": [
            "/usr/local/lib/python3.6/dist-packages/sklearn/model_selection/_split.py:1978: FutureWarning: The default value of cv will change from 3 to 5 in version 0.22. Specify it explicitly to silence this warning.\n",
            "  warnings.warn(CV_WARNING, FutureWarning)\n",
            "/usr/local/lib/python3.6/dist-packages/sklearn/model_selection/_search.py:814: DeprecationWarning: The default of the `iid` parameter will change from True to False in version 0.22 and will be removed in 0.24. This will change numeric results when test-set sizes are unequal.\n",
            "  DeprecationWarning)\n"
          ],
          "name": "stderr"
        }
      ]
    },
    {
      "cell_type": "code",
      "metadata": {
        "id": "h1V6cEpvY58k",
        "colab_type": "code",
        "outputId": "f28b17bc-2af1-43db-b33e-daff3ce6ac88",
        "colab": {
          "base_uri": "https://localhost:8080/",
          "height": 51
        }
      },
      "source": [
        "##### NAIVE BAYES\n",
        "t0=time()\n",
        "from sklearn.naive_bayes import GaussianNB\n",
        "clf=GaussianNB()\n",
        "clf.fit(train_data_mat,train_labels)\n",
        "pred=clf.predict(test_data_mat)\n",
        "acc=accuracy_score(pred,test_labels)\n",
        "print (\"acc naive bayes: \",acc)\n",
        "print (\"Computation time: \", round(time()-t0,3))\n",
        "\n",
        "\n",
        "\n"
      ],
      "execution_count": 0,
      "outputs": [
        {
          "output_type": "stream",
          "text": [
            "acc naive bayes:  0.8478260869565217\n",
            "Computation time:  0.005\n"
          ],
          "name": "stdout"
        }
      ]
    },
    {
      "cell_type": "code",
      "metadata": {
        "id": "z56tGJJbZBNM",
        "colab_type": "code",
        "outputId": "9eaa977d-56b7-410f-cdfb-969c12c1239b",
        "colab": {
          "base_uri": "https://localhost:8080/",
          "height": 275
        }
      },
      "source": [
        "\n",
        "#####RANDOM FORESTS\n",
        "from sklearn.ensemble import RandomForestClassifier\n",
        "param_grid = {\n",
        "         'n_estimators': [100, 75, 50, 25, 10, 5],\n",
        "         'max_depth':[100, 75, 50, 25, 10, 5],\n",
        "          }\n",
        "t0=time()\n",
        "\n",
        "clf = GridSearchCV(RandomForestClassifier(), param_grid)\n",
        "clf.fit(train_data_mat,train_labels)\n",
        "pred=clf.predict(test_data_mat)\n",
        "acc=accuracy_score(pred,test_labels)\n",
        "print (\"acc Random Forest: \",acc)\n",
        "print (\"Computation time: \", round(time()-t0,3))\n",
        "print (\"Best estimator found by grid search:\")\n",
        "print (clf.best_estimator_)"
      ],
      "execution_count": 0,
      "outputs": [
        {
          "output_type": "stream",
          "text": [
            "/usr/local/lib/python3.6/dist-packages/sklearn/model_selection/_split.py:1978: FutureWarning: The default value of cv will change from 3 to 5 in version 0.22. Specify it explicitly to silence this warning.\n",
            "  warnings.warn(CV_WARNING, FutureWarning)\n"
          ],
          "name": "stderr"
        },
        {
          "output_type": "stream",
          "text": [
            "acc Random Forest:  0.7608695652173914\n",
            "Computation time:  3.384\n",
            "Best estimator found by grid search:\n",
            "RandomForestClassifier(bootstrap=True, class_weight=None, criterion='gini',\n",
            "                       max_depth=100, max_features='auto', max_leaf_nodes=None,\n",
            "                       min_impurity_decrease=0.0, min_impurity_split=None,\n",
            "                       min_samples_leaf=1, min_samples_split=2,\n",
            "                       min_weight_fraction_leaf=0.0, n_estimators=25,\n",
            "                       n_jobs=None, oob_score=False, random_state=None,\n",
            "                       verbose=0, warm_start=False)\n"
          ],
          "name": "stdout"
        },
        {
          "output_type": "stream",
          "text": [
            "/usr/local/lib/python3.6/dist-packages/sklearn/model_selection/_search.py:814: DeprecationWarning: The default of the `iid` parameter will change from True to False in version 0.22 and will be removed in 0.24. This will change numeric results when test-set sizes are unequal.\n",
            "  DeprecationWarning)\n"
          ],
          "name": "stderr"
        }
      ]
    },
    {
      "cell_type": "code",
      "metadata": {
        "id": "nbPi-TRkec5L",
        "colab_type": "code",
        "outputId": "4acdb2ae-8570-4856-b1e2-545f26c7be74",
        "colab": {
          "base_uri": "https://localhost:8080/",
          "height": 156
        }
      },
      "source": [
        "from sklearn import linear_model\n",
        "t0=time()\n",
        "reg = linear_model.LogisticRegression()\n",
        "reg.fit(train_data_mat, train_labels)\n",
        "pred=reg.predict(test_data_mat)\n",
        "acc=reg.score(test_data_mat,test_labels)\n",
        "print (\"acc logistic regression \",acc)\n",
        "print (\"Computation time: \", round(time()-t0,3))\n",
        "\n",
        "print (\"reg.coef_ \",reg.coef_)\n",
        "print (\"reg.intercept_ \", reg.intercept_)\n",
        "\n"
      ],
      "execution_count": 0,
      "outputs": [
        {
          "output_type": "stream",
          "text": [
            "acc logistic regression  0.8913043478260869\n",
            "Computation time:  0.008\n",
            "reg.coef_  [[-0.00755088 -0.06463132 -0.02717122  0.00880394 -1.39180175  0.69107631\n",
            "   0.0855687   0.82435857  0.71827975]]\n",
            "reg.intercept_  [0.0183514]\n"
          ],
          "name": "stdout"
        },
        {
          "output_type": "stream",
          "text": [
            "/usr/local/lib/python3.6/dist-packages/sklearn/linear_model/logistic.py:432: FutureWarning: Default solver will be changed to 'lbfgs' in 0.22. Specify a solver to silence this warning.\n",
            "  FutureWarning)\n"
          ],
          "name": "stderr"
        }
      ]
    }
  ]
}